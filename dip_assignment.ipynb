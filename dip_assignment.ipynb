{
  "nbformat": 4,
  "nbformat_minor": 0,
  "metadata": {
    "colab": {
      "name": "dip_assignment.ipynb",
      "version": "0.3.2",
      "provenance": [],
      "collapsed_sections": []
    },
    "kernelspec": {
      "name": "python3",
      "display_name": "Python 3"
    },
    "accelerator": "GPU"
  },
  "cells": [
    {
      "metadata": {
        "id": "1Jj42lsv7tyG",
        "colab_type": "code",
        "colab": {
          "base_uri": "https://localhost:8080/",
          "height": 367
        },
        "outputId": "4ef071d3-4f10-4d39-c57d-14d3115152d3"
      },
      "cell_type": "code",
      "source": [
        "!apt-get install -y -qq software-properties-common python-software-properties module-init-tools\n",
        "!add-apt-repository -y ppa:alessandro-strada/ppa 2>&1 > /dev/null\n",
        "!apt-get update -qq 2>&1 > /dev/null\n",
        "!apt-get -y install -qq google-drive-ocamlfuse fuse\n",
        "from google.colab import auth\n",
        "auth.authenticate_user()\n",
        "from oauth2client.client import GoogleCredentials\n",
        "creds = GoogleCredentials.get_application_default()\n",
        "import getpass\n",
        "!google-drive-ocamlfuse -headless -id={creds.client_id} -secret={creds.client_secret} < /dev/null 2>&1 | grep URL\n",
        "vcode = getpass.getpass()\n",
        "!echo {vcode} | google-drive-ocamlfuse -headless -id={creds.client_id} -secret={creds.client_secret}\n",
        "\n",
        "!mkdir -p drive\n",
        "!google-drive-ocamlfuse drive"
      ],
      "execution_count": 1,
      "outputs": [
        {
          "output_type": "stream",
          "text": [
            "E: Package 'python-software-properties' has no installation candidate\n",
            "Selecting previously unselected package libfuse2:amd64.\n",
            "(Reading database ... 22298 files and directories currently installed.)\n",
            "Preparing to unpack .../libfuse2_2.9.7-1ubuntu1_amd64.deb ...\n",
            "Unpacking libfuse2:amd64 (2.9.7-1ubuntu1) ...\n",
            "Selecting previously unselected package fuse.\n",
            "Preparing to unpack .../fuse_2.9.7-1ubuntu1_amd64.deb ...\n",
            "Unpacking fuse (2.9.7-1ubuntu1) ...\n",
            "Selecting previously unselected package google-drive-ocamlfuse.\n",
            "Preparing to unpack .../google-drive-ocamlfuse_0.7.1-0ubuntu2~ubuntu18.04.1_amd64.deb ...\n",
            "Unpacking google-drive-ocamlfuse (0.7.1-0ubuntu2~ubuntu18.04.1) ...\n",
            "Setting up libfuse2:amd64 (2.9.7-1ubuntu1) ...\n",
            "Processing triggers for libc-bin (2.27-3ubuntu1) ...\n",
            "Setting up fuse (2.9.7-1ubuntu1) ...\n",
            "Setting up google-drive-ocamlfuse (0.7.1-0ubuntu2~ubuntu18.04.1) ...\n",
            "Please, open the following URL in a web browser: https://accounts.google.com/o/oauth2/auth?client_id=32555940559.apps.googleusercontent.com&redirect_uri=urn%3Aietf%3Awg%3Aoauth%3A2.0%3Aoob&scope=https%3A%2F%2Fwww.googleapis.com%2Fauth%2Fdrive&response_type=code&access_type=offline&approval_prompt=force\n",
            "··········\n",
            "Please, open the following URL in a web browser: https://accounts.google.com/o/oauth2/auth?client_id=32555940559.apps.googleusercontent.com&redirect_uri=urn%3Aietf%3Awg%3Aoauth%3A2.0%3Aoob&scope=https%3A%2F%2Fwww.googleapis.com%2Fauth%2Fdrive&response_type=code&access_type=offline&approval_prompt=force\n",
            "Please enter the verification code: Access token retrieved correctly.\n"
          ],
          "name": "stdout"
        }
      ]
    },
    {
      "metadata": {
        "id": "KQFhkNCN8DUI",
        "colab_type": "code",
        "outputId": "84c533a0-e0fd-4963-ddf8-06b67c2485d7",
        "colab": {
          "base_uri": "https://localhost:8080/",
          "height": 69
        }
      },
      "cell_type": "code",
      "source": [
        "import os\n",
        "os.chdir('drive/keras/alphabets_digits')\n",
        "!ls"
      ],
      "execution_count": 1,
      "outputs": [
        {
          "output_type": "stream",
          "text": [
            " alphabets_digits1.h5   alphabets.h5\t\t    dip_assignment.ipynb\n",
            " alphabets_digits2.h5  'A_Z Handwritten Data.csv'   images\n",
            " alphabets_digits.h5   'A_Z Handwritten Data.zip'\n"
          ],
          "name": "stdout"
        }
      ]
    },
    {
      "metadata": {
        "id": "7TTczP0K_inG",
        "colab_type": "code",
        "colab": {
          "base_uri": "https://localhost:8080/",
          "height": 34
        },
        "outputId": "d66efd31-cfc1-4fc2-a019-dd4c5f8c6924"
      },
      "cell_type": "code",
      "source": [
        "import pandas as pd\n",
        "import numpy as np\n",
        "import cv2 as cv\n",
        "import matplotlib.pyplot as plt\n",
        "from sklearn.utils import shuffle\n",
        "from sklearn.model_selection import train_test_split\n",
        "import glob\n",
        "from scipy.misc import imresize\n",
        "\n",
        "import keras\n",
        "from keras.datasets import mnist\n",
        "from keras.models import Sequential\n",
        "from keras.layers import Dense, Dropout, Flatten\n",
        "from keras.layers import Conv2D, MaxPooling2D\n",
        "from keras import backend as K\n",
        "from keras.layers.normalization import BatchNormalization"
      ],
      "execution_count": 2,
      "outputs": [
        {
          "output_type": "stream",
          "text": [
            "Using TensorFlow backend.\n"
          ],
          "name": "stderr"
        }
      ]
    },
    {
      "metadata": {
        "id": "fTJtCrjp9DUH",
        "colab_type": "code",
        "outputId": "b4a820f4-a1f2-4f4a-dca8-98ac0f707a35",
        "colab": {
          "base_uri": "https://localhost:8080/",
          "height": 52
        }
      },
      "cell_type": "code",
      "source": [
        "data = pd.read_csv('A_Z Handwritten Data.csv')\n",
        "print(data.shape)\n",
        "data = np.array(data)\n",
        "X = data[:,1:]\n",
        "y = data[:,0]\n",
        "print(X.shape,y.shape)"
      ],
      "execution_count": 3,
      "outputs": [
        {
          "output_type": "stream",
          "text": [
            "(372450, 785)\n",
            "(372450, 784) (372450,)\n"
          ],
          "name": "stdout"
        }
      ]
    },
    {
      "metadata": {
        "id": "Q484gxm1wAAB",
        "colab_type": "code",
        "colab": {}
      },
      "cell_type": "code",
      "source": [
        "from keras.datasets import mnist\n",
        "(x_train, y_train), (x_test, y_test) = mnist.load_data()"
      ],
      "execution_count": 0,
      "outputs": []
    },
    {
      "metadata": {
        "id": "mLy-4KgPvfqv",
        "colab_type": "code",
        "colab": {
          "base_uri": "https://localhost:8080/",
          "height": 34
        },
        "outputId": "c7105125-9f52-4610-d529-b8d698952c4e"
      },
      "cell_type": "code",
      "source": [
        "X = np.reshape(X,(X.shape[0],28,28))\n",
        "X = np.concatenate((X,x_train,x_test))\n",
        "del x_train,x_test\n",
        "y_train = y_train + 26\n",
        "y_test = y_test + 26\n",
        "y = np.concatenate((y,y_train,y_test))\n",
        "del y_train,y_test\n",
        "print(X.shape,y.shape)"
      ],
      "execution_count": 5,
      "outputs": [
        {
          "output_type": "stream",
          "text": [
            "(442450, 28, 28) (442450,)\n"
          ],
          "name": "stdout"
        }
      ]
    },
    {
      "metadata": {
        "id": "b-_iIlD0_5_x",
        "colab_type": "code",
        "colab": {}
      },
      "cell_type": "code",
      "source": [
        "batch_size = 2048\n",
        "num_classes = 36\n",
        "epochs = 12\n",
        "# input image dimensions\n",
        "img_rows, img_cols = 28, 28\n",
        "input_shape = (28,28,1)"
      ],
      "execution_count": 0,
      "outputs": []
    },
    {
      "metadata": {
        "id": "CKs0GWq1-mLC",
        "colab_type": "code",
        "outputId": "0c6d1626-e106-44f1-8ba0-7fca8e06267f",
        "colab": {
          "base_uri": "https://localhost:8080/",
          "height": 69
        }
      },
      "cell_type": "code",
      "source": [
        "X = np.expand_dims(X,axis = 3)\n",
        "X = X.astype('float32')\n",
        "# convert class vectors to binary class matrices\n",
        "y = keras.utils.to_categorical(y, num_classes)\n",
        "X, y = shuffle(X, y)\n",
        "X_train, X_test, y_train, y_test = train_test_split(X, y, test_size=0.1)\n",
        "del X,y\n",
        "\n",
        "print('x_train shape:', X_train.shape)\n",
        "print(X_train.shape[0], 'train samples')\n",
        "print(X_test.shape[0], 'test samples')"
      ],
      "execution_count": 7,
      "outputs": [
        {
          "output_type": "stream",
          "text": [
            "x_train shape: (398205, 28, 28, 1)\n",
            "398205 train samples\n",
            "44245 test samples\n"
          ],
          "name": "stdout"
        }
      ]
    },
    {
      "metadata": {
        "id": "-FkdkyHcAVmR",
        "colab_type": "code",
        "colab": {
          "base_uri": "https://localhost:8080/",
          "height": 1754
        },
        "outputId": "af5f1c71-e7df-44a4-80f9-e48e030e9d52"
      },
      "cell_type": "code",
      "source": [
        "for i in range(5):\n",
        "  a = np.random.randint(0,len(X_test))\n",
        "  plt.figure()\n",
        "  plt.grid(False)\n",
        "  plt.imshow(np.reshape(X_test[a,:,:,:],(28,28)))\n",
        "  y = y_test[a,:]\n",
        "  print(np.argmax(y))\n"
      ],
      "execution_count": 8,
      "outputs": [
        {
          "output_type": "stream",
          "text": [
            "14\n",
            "17\n",
            "12\n",
            "18\n",
            "27\n"
          ],
          "name": "stdout"
        },
        {
          "output_type": "display_data",
          "data": {
            "image/png": "[encoded data removed]",
            "text/plain": [
              "<matplotlib.figure.Figure at 0x7f48758aec88>"
            ]
          },
          "metadata": {
            "tags": []
          }
        },
        {
          "output_type": "display_data",
          "data": {
            "image/png": "[encoded data removed]",
            "text/plain": [
              "<matplotlib.figure.Figure at 0x7f4875895e10>"
            ]
          },
          "metadata": {
            "tags": []
          }
        },
        {
          "output_type": "display_data",
          "data": {
            "image/png": "[encoded data removed]",
            "text/plain": [
              "<matplotlib.figure.Figure at 0x7f48746a4710>"
            ]
          },
          "metadata": {
            "tags": []
          }
        },
        {
          "output_type": "display_data",
          "data": {
            "image/png": "[encoded data removed]",
            "text/plain": [
              "<matplotlib.figure.Figure at 0x7f4874229780>"
            ]
          },
          "metadata": {
            "tags": []
          }
        },
        {
          "output_type": "display_data",
          "data": {
            "image/png": "[encoded data removed]",
            "text/plain": [
              "<matplotlib.figure.Figure at 0x7f487404a7f0>"
            ]
          },
          "metadata": {
            "tags": []
          }
        }
      ]
    },
    {
      "metadata": {
        "id": "lz-wqqyd8yMj",
        "colab_type": "code",
        "outputId": "374f264f-2f30-430f-8f10-7395f8f22acf",
        "colab": {
          "base_uri": "https://localhost:8080/",
          "height": 555
        }
      },
      "cell_type": "code",
      "source": [
        "#building model\n",
        "model = Sequential()\n",
        "model.add(BatchNormalization(input_shape=input_shape))\n",
        "model.add(Conv2D(32, kernel_size=(3, 3),activation='relu'))\n",
        "model.add(Conv2D(64, (3, 3), activation='relu'))\n",
        "model.add(MaxPooling2D(pool_size=(2, 2)))\n",
        "model.add(BatchNormalization())\n",
        "model.add(Conv2D(32, kernel_size=(3, 3),activation='relu'))\n",
        "model.add(Conv2D(64, (3, 3), activation='relu'))\n",
        "model.add(BatchNormalization())\n",
        "model.add(Flatten())\n",
        "model.add(Dense(128, activation='relu'))\n",
        "model.add(Dropout(0.5))\n",
        "model.add(Dense(num_classes, activation='softmax'))\n",
        "\n",
        "model.compile(loss=keras.losses.categorical_crossentropy,\n",
        "              optimizer=keras.optimizers.adam(),\n",
        "              metrics=['accuracy'])\n",
        "model.summary()\n"
      ],
      "execution_count": 9,
      "outputs": [
        {
          "output_type": "stream",
          "text": [
            "_________________________________________________________________\n",
            "Layer (type)                 Output Shape              Param #   \n",
            "=================================================================\n",
            "batch_normalization_1 (Batch (None, 28, 28, 1)         4         \n",
            "_________________________________________________________________\n",
            "conv2d_1 (Conv2D)            (None, 26, 26, 32)        320       \n",
            "_________________________________________________________________\n",
            "conv2d_2 (Conv2D)            (None, 24, 24, 64)        18496     \n",
            "_________________________________________________________________\n",
            "max_pooling2d_1 (MaxPooling2 (None, 12, 12, 64)        0         \n",
            "_________________________________________________________________\n",
            "batch_normalization_2 (Batch (None, 12, 12, 64)        256       \n",
            "_________________________________________________________________\n",
            "conv2d_3 (Conv2D)            (None, 10, 10, 32)        18464     \n",
            "_________________________________________________________________\n",
            "conv2d_4 (Conv2D)            (None, 8, 8, 64)          18496     \n",
            "_________________________________________________________________\n",
            "batch_normalization_3 (Batch (None, 8, 8, 64)          256       \n",
            "_________________________________________________________________\n",
            "flatten_1 (Flatten)          (None, 4096)              0         \n",
            "_________________________________________________________________\n",
            "dense_1 (Dense)              (None, 128)               524416    \n",
            "_________________________________________________________________\n",
            "dropout_1 (Dropout)          (None, 128)               0         \n",
            "_________________________________________________________________\n",
            "dense_2 (Dense)              (None, 36)                4644      \n",
            "=================================================================\n",
            "Total params: 585,352\n",
            "Trainable params: 585,094\n",
            "Non-trainable params: 258\n",
            "_________________________________________________________________\n"
          ],
          "name": "stdout"
        }
      ]
    },
    {
      "metadata": {
        "id": "SaS5pCgBFHQv",
        "colab_type": "code",
        "outputId": "6e0ba7ee-ddc7-48e4-eb6b-6c5b8ece906a",
        "colab": {
          "base_uri": "https://localhost:8080/",
          "height": 486
        }
      },
      "cell_type": "code",
      "source": [
        "model.fit(X_train, y_train,\n",
        "          batch_size=batch_size,\n",
        "          epochs=epochs,\n",
        "          verbose=1,\n",
        "          validation_data=(X_test, y_test))\n",
        "score = model.evaluate(X_test, y_test, verbose=0)\n",
        "print('Test loss:', score[0])\n",
        "print('Test accuracy:', score[1])"
      ],
      "execution_count": 10,
      "outputs": [
        {
          "output_type": "stream",
          "text": [
            "Train on 398205 samples, validate on 44245 samples\n",
            "Epoch 1/12\n",
            "398205/398205 [==============================] - 43s 109us/step - loss: 0.4431 - acc: 0.8833 - val_loss: 0.1089 - val_acc: 0.9690\n",
            "Epoch 2/12\n",
            "398205/398205 [==============================] - 40s 101us/step - loss: 0.1397 - acc: 0.9604 - val_loss: 0.0781 - val_acc: 0.9778\n",
            "Epoch 3/12\n",
            "398205/398205 [==============================] - 40s 101us/step - loss: 0.1038 - acc: 0.9706 - val_loss: 0.0691 - val_acc: 0.9807\n",
            "Epoch 4/12\n",
            "398205/398205 [==============================] - 41s 102us/step - loss: 0.0852 - acc: 0.9755 - val_loss: 0.0638 - val_acc: 0.9822\n",
            "Epoch 5/12\n",
            "398205/398205 [==============================] - 40s 101us/step - loss: 0.0719 - acc: 0.9792 - val_loss: 0.0580 - val_acc: 0.9834\n",
            "Epoch 6/12\n",
            "398205/398205 [==============================] - 40s 100us/step - loss: 0.0631 - acc: 0.9814 - val_loss: 0.0505 - val_acc: 0.9858\n",
            "Epoch 7/12\n",
            "398205/398205 [==============================] - 40s 100us/step - loss: 0.0568 - acc: 0.9829 - val_loss: 0.0524 - val_acc: 0.9858\n",
            "Epoch 8/12\n",
            "398205/398205 [==============================] - 40s 100us/step - loss: 0.0508 - acc: 0.9846 - val_loss: 0.0499 - val_acc: 0.9866\n",
            "Epoch 9/12\n",
            "398205/398205 [==============================] - 40s 100us/step - loss: 0.0458 - acc: 0.9860 - val_loss: 0.0475 - val_acc: 0.9870\n",
            "Epoch 10/12\n",
            "398205/398205 [==============================] - 40s 101us/step - loss: 0.0430 - acc: 0.9866 - val_loss: 0.0528 - val_acc: 0.9849\n",
            "Epoch 11/12\n",
            "398205/398205 [==============================] - 41s 102us/step - loss: 0.0394 - acc: 0.9876 - val_loss: 0.0444 - val_acc: 0.9889\n",
            "Epoch 12/12\n",
            "398205/398205 [==============================] - 40s 101us/step - loss: 0.0369 - acc: 0.9884 - val_loss: 0.0484 - val_acc: 0.9879\n",
            "Test loss: 0.04838828145849745\n",
            "Test accuracy: 0.9878856367951181\n"
          ],
          "name": "stdout"
        }
      ]
    },
    {
      "metadata": {
        "id": "OSO5TZFRJ1cO",
        "colab_type": "code",
        "colab": {}
      },
      "cell_type": "code",
      "source": [
        "from keras.models import load_model\n",
        "model.save('alphabets_digits2.h5')  \n"
      ],
      "execution_count": 0,
      "outputs": []
    },
    {
      "metadata": {
        "id": "EvNmgFAShqzI",
        "colab_type": "code",
        "colab": {
          "base_uri": "https://localhost:8080/",
          "height": 416
        },
        "outputId": "a1ca67e2-9d3e-4dfd-9c31-f123e7249a67"
      },
      "cell_type": "code",
      "source": [
        "from keras.models import load_model\n",
        "model = load_model('alphabets.h5')\n",
        "model.summary()\n"
      ],
      "execution_count": 12,
      "outputs": [
        {
          "output_type": "stream",
          "text": [
            "_________________________________________________________________\n",
            "Layer (type)                 Output Shape              Param #   \n",
            "=================================================================\n",
            "conv2d_1 (Conv2D)            (None, 26, 26, 32)        320       \n",
            "_________________________________________________________________\n",
            "conv2d_2 (Conv2D)            (None, 24, 24, 64)        18496     \n",
            "_________________________________________________________________\n",
            "max_pooling2d_1 (MaxPooling2 (None, 12, 12, 64)        0         \n",
            "_________________________________________________________________\n",
            "dropout_1 (Dropout)          (None, 12, 12, 64)        0         \n",
            "_________________________________________________________________\n",
            "flatten_1 (Flatten)          (None, 9216)              0         \n",
            "_________________________________________________________________\n",
            "dense_1 (Dense)              (None, 128)               1179776   \n",
            "_________________________________________________________________\n",
            "dropout_2 (Dropout)          (None, 128)               0         \n",
            "_________________________________________________________________\n",
            "dense_2 (Dense)              (None, 26)                3354      \n",
            "=================================================================\n",
            "Total params: 1,201,946\n",
            "Trainable params: 1,201,946\n",
            "Non-trainable params: 0\n",
            "_________________________________________________________________\n"
          ],
          "name": "stdout"
        }
      ]
    },
    {
      "metadata": {
        "id": "VazAO6_6J-RB",
        "colab_type": "code",
        "colab": {}
      },
      "cell_type": "code",
      "source": [
        "import numpy as np\n",
        "from scipy.misc import imresize\n",
        "from sklearn import preprocessing\n",
        "\n",
        "def preprocess_image(img):  \n",
        "  img = imresize(img,(28,28))\n",
        "  img = np.expand_dims(img,axis=0)\n",
        "  result = np.expand_dims(img,axis=3)\n",
        "  return result\n",
        "\n",
        "def encoding(prediction):\n",
        "  label_encoder = preprocessing.LabelEncoder()\n",
        "  label_encoder.fit(['A','B','C','D','E','F','G','H','I','J','K','L','M',\n",
        "        'N','O','P','Q','R','S','T','U','V','W','X','Y','Z'])\n",
        "  result = label_encoder.inverse_transform([prediction])\n",
        "  result = result[0]\n",
        "  return result\n",
        "\n",
        "\n",
        "\n",
        "image = None#load image\n",
        "pre_image = preprocess_image(image)\n",
        "y = model.predict(pre_image)\n",
        "print(y)"
      ],
      "execution_count": 0,
      "outputs": []
    }
  ]
}